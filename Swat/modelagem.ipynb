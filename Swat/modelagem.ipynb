{
 "cells": [
  {
   "cell_type": "code",
   "execution_count": null,
   "metadata": {
    "tags": []
   },
   "outputs": [],
   "source": [
    "# !pip install swat"
   ]
  },
  {
   "cell_type": "code",
   "execution_count": null,
   "metadata": {},
   "outputs": [],
   "source": [
    "import swat\n",
    "import getpass\n",
    "import re\n",
    "import pandas as pd\n",
    "import matplotlib.pyplot as plt\n",
    "import numpy as np\n",
    "import requests\n",
    "\n",
    "from sklearn.metrics import roc_curve\n",
    "from sklearn.metrics import roc_auc_score"
   ]
  },
  {
   "cell_type": "markdown",
   "metadata": {},
   "source": [
    "# Conexão com servidor"
   ]
  },
  {
   "cell_type": "code",
   "execution_count": null,
   "metadata": {},
   "outputs": [],
   "source": [
    "# slower http/REST connection method\n",
    "conn = swat.CAS(\"https://my-viya-server.com/cas-shared-default-http\", 443, \"username\", getpass.getpass())\n",
    "# print(conn)\n",
    "\n",
    "# fast binary connection method\n",
    "\n",
    "#conn = swat.CAS(\"controller.sas-cas-server-default.viya4.svc.cluster.local\", 5570, \n",
    "#                username = \"username\", \n",
    "#                password = getpass.getpass()\")\n",
    "print(conn)"
   ]
  },
  {
   "cell_type": "code",
   "execution_count": null,
   "metadata": {},
   "outputs": [],
   "source": [
    "# https://go.documentation.sas.com/doc/en/pgmsascdc/v_035/allprodsactions/actionSetsByName.htm\n",
    "\n",
    "conn.loadactionset(\"sampling\")\n",
    "conn.loadactionset(\"decisionTree\")\n",
    "conn.loadactionset(\"autotune\")"
   ]
  },
  {
   "cell_type": "markdown",
   "metadata": {},
   "source": [
    "# Verificar Tabelas"
   ]
  },
  {
   "cell_type": "code",
   "execution_count": null,
   "metadata": {},
   "outputs": [],
   "source": [
    "# Tabelas em memoria\n",
    "conn.tableinfo(caslib=\"CASUSER\")"
   ]
  },
  {
   "cell_type": "code",
   "execution_count": null,
   "metadata": {},
   "outputs": [],
   "source": [
    "conn.upload(data='hmeq.csv', casout={\"name\":\"hmeq\",\"caslib\":\"casuser\", \"replace\": True})\n",
    "conn.tableinfo(caslib=\"CASUSER\")"
   ]
  },
  {
   "cell_type": "markdown",
   "metadata": {},
   "source": [
    "# Análise da Tabela"
   ]
  },
  {
   "cell_type": "code",
   "execution_count": null,
   "metadata": {},
   "outputs": [],
   "source": [
    "tbl = conn.CASTable(\"hmeq\", caslib=\"CASUSER\")"
   ]
  },
  {
   "cell_type": "code",
   "execution_count": null,
   "metadata": {},
   "outputs": [],
   "source": [
    "tbl.head()"
   ]
  },
  {
   "cell_type": "code",
   "execution_count": null,
   "metadata": {},
   "outputs": [],
   "source": [
    "tbl.describe()"
   ]
  },
  {
   "cell_type": "code",
   "execution_count": null,
   "metadata": {},
   "outputs": [],
   "source": [
    "# 0 = trainamento, 1 = teste\n",
    "conn.sampling.stratified(\n",
    "    table={\"name\":\"hmeq\", \"groupBy\":\"BAD\"},\n",
    "    output={\"casOut\":{\"name\":\"hmeq_part\", \"replace\":1}, \"copyVars\":\"ALL\"},\n",
    "    samppct=70,\n",
    "    partind=True\n",
    ")"
   ]
  },
  {
   "cell_type": "code",
   "execution_count": null,
   "metadata": {},
   "outputs": [],
   "source": [
    "tbl_part = conn.CASTable(\"hmeq_part\", caslib=\"CASUSER\")\n",
    "tbl_part.head()"
   ]
  },
  {
   "cell_type": "markdown",
   "metadata": {},
   "source": [
    "# Definição de Variáveis"
   ]
  },
  {
   "cell_type": "markdown",
   "metadata": {},
   "source": [
    "## Imputação de Valores"
   ]
  },
  {
   "cell_type": "code",
   "execution_count": null,
   "metadata": {},
   "outputs": [],
   "source": [
    "# Imputacao de Valores\n",
    "db_var_imp = conn.datapreprocess.impute(table=\"hmeq_part\",\n",
    "                                        methodnominal=\"mode\", \n",
    "                                        methodinterval =\"median\",\n",
    "                                        casout={\"name\":\"HMEQ_TRATADA\",\"caslib\":\"CASUSER\", \"replace\":1},\n",
    "                                        outvarsnameprefix='')\n",
    "\n",
    "db_tratado = conn.CASTable(\"HMEQ_TRATADA\")\n",
    "conn.table.promote(db_tratado)\n",
    "\n",
    "db_tratado.head()"
   ]
  },
  {
   "cell_type": "code",
   "execution_count": null,
   "metadata": {},
   "outputs": [],
   "source": [
    "# Separacao de Colunas\n",
    "columns_info = conn.columninfo(table=db_tratado).ColumnInfo\n",
    "\n",
    "target = \"BAD\"\n",
    "columns_info\n"
   ]
  },
  {
   "cell_type": "code",
   "execution_count": null,
   "metadata": {},
   "outputs": [],
   "source": [
    "\n",
    "columns_char = list(columns_info[\"Column\"][columns_info[\"Type\"]==\"varchar\"])\n",
    "columns_double = list( columns_info[\"Column\"][ columns_info[\"Type\"]==\"double\" ])\n",
    "columns_double.remove(\"BAD\")\n",
    "columns_double.remove(\"_PartInd_\")\n",
    "\n",
    "print(columns_char)\n",
    "print(columns_double)"
   ]
  },
  {
   "cell_type": "markdown",
   "metadata": {},
   "source": [
    "# Criação do Modelo"
   ]
  },
  {
   "cell_type": "markdown",
   "metadata": {},
   "source": [
    "## Random Forest"
   ]
  },
  {
   "cell_type": "code",
   "execution_count": null,
   "metadata": {},
   "outputs": [],
   "source": [
    "# Treinamento e Scoragem - Random Forest\n",
    "\n",
    "resultrf = conn.autotune.tuneForest(\n",
    "    # Treina e salva o codigo de treinamento na tabela rf_train.\n",
    "    trainOptions={\n",
    "         \"table\"   : {\"name\":\"hmeq_part\", \"where\": \"_PartInd_=0\"},\n",
    "         \"inputs\"  : columns_double+columns_char,\n",
    "         \"target\"  : target,\n",
    "         \"nominals\" : columns_char+[target],\n",
    "         \"casout\"  : {\"name\":\"rf_train\"},\n",
    "        \"saveState\" : {\"name\" : \"rf_astore\", \"caslib\": \"Public\"} # astore\n",
    "     },\n",
    "    tunerOptions={\n",
    "         \"maxIters\": 5,\n",
    "         \"maxTime\": 60,\n",
    "         \"searchMethod\": \"GA\",\n",
    "         \"objective\": \"KS\",\n",
    "         \"userDefinedPartition\": True,\n",
    "         \"targetEvent\" : \"1\"\n",
    "     },\n",
    "    # Utiliza o modelo criado e otimizado para scoragem da base particionada\n",
    "    scoreOptions = {\n",
    "        \"table\": { \"name\":\"hmeq_part\", \"where\": \"_PartInd_=1\" },\n",
    "        \"modeltable\": {\"name\":\"rf_train\"},\n",
    "        \"casout\": {\"name\":\"rf_score\", \"replace\":1},\n",
    "        \"copyvars\":[\"BAD\"]\n",
    "    }\n",
    ")\n",
    "\n",
    "# Scoragem - Random Forest\n",
    "rf_score = conn.CASTable(\"rf_score\") \n",
    "rf_score.head()"
   ]
  },
  {
   "cell_type": "markdown",
   "metadata": {},
   "source": [
    "## Gradient Boosting"
   ]
  },
  {
   "cell_type": "code",
   "execution_count": null,
   "metadata": {},
   "outputs": [],
   "source": [
    "# Treinamento e Scoragem - Gradient Boosting\n",
    "resultgb = conn.autotune.tuneGradientBoostTree(\n",
    "    trainOptions = {\n",
    "        \"table\"   : {\"name\":\"hmeq_part\", \"where\": \"_PartInd_=0\"},\n",
    "        \"inputs\"  : columns_double+columns_char,\n",
    "        \"target\"  : target,\n",
    "        \"nominal\" : columns_char+[target],\n",
    "        \"casout\"  : {\"name\":\"gb_train\"},\n",
    "        \"saveState\" : {\"name\" : \"gb_astore\", \"caslib\": \"Public\"}\n",
    "    },\n",
    "    tunerOptions={\n",
    "         \"maxIters\": 5,\n",
    "         \"maxTime\": 60,\n",
    "         \"searchMethod\": \"GA\",\n",
    "         \"objective\": \"KS\",\n",
    "         \"userDefinedPartition\": True,\n",
    "         \"targetEvent\" : \"1\"\n",
    "    },\n",
    "    scoreOptions= {\n",
    "        \"table\" : {\"name\":\"hmeq_part\", \"where\": \"_PartInd_=1\"},\n",
    "        \"modeltable\": {\"name\":\"gb_train\"},\n",
    "        \"casout\":{\"name\":\"gb_score\", \"replace\":1}, \n",
    "        \"copyvars\":[\"BAD\"]\n",
    "   }\n",
    ")\n",
    "\n",
    "gb_score = conn.CASTable(\"gb_score\")\n",
    "gb_score.head()"
   ]
  },
  {
   "cell_type": "code",
   "execution_count": null,
   "metadata": {},
   "outputs": [],
   "source": [
    "resultnn =conn.autotune.tuneneuralnet(\n",
    "    trainOptions = {\n",
    "        \"table\"   : {\"name\":\"hmeq_part\", \"where\": \"_PartInd_=0\"},\n",
    "        \"inputs\"  : columns_double+columns_char,\n",
    "        \"target\"  : target,\n",
    "        \"nominal\" : columns_char+[target],\n",
    "        \"casout\"  : {\"name\":\"nn_train\"}\n",
    "    },\n",
    "    tunerOptions={\n",
    "         \"maxIters\": 5,\n",
    "         \"maxTime\": 60,\n",
    "         \"searchMethod\": \"GA\",\n",
    "         \"objective\": \"KS\",\n",
    "         \"userDefinedPartition\": True,\n",
    "         \"targetEvent\" : \"1\"\n",
    "    },\n",
    "    scoreOptions= {\n",
    "        \"table\" : {\"name\":\"hmeq_part\", \"where\": \"_PartInd_=1\"},\n",
    "        \"modeltable\": {\"name\":\"nn_train\"},\n",
    "        \"casout\":{\"name\":\"nn_score\", \"replace\":1}, \n",
    "        \"copyvars\":[\"BAD\"]\n",
    "   }\n",
    ")\n",
    "\n",
    "nn_score = conn.CASTable(\"gb_score\")\n",
    "nn_score.head()"
   ]
  },
  {
   "cell_type": "markdown",
   "metadata": {},
   "source": [
    "# Informações dos Modelos"
   ]
  },
  {
   "cell_type": "code",
   "execution_count": null,
   "metadata": {},
   "outputs": [],
   "source": [
    "resultgb"
   ]
  },
  {
   "cell_type": "code",
   "execution_count": null,
   "metadata": {},
   "outputs": [],
   "source": [
    "conn.tableinfo(caslib=\"CASUSER\")"
   ]
  },
  {
   "cell_type": "code",
   "execution_count": null,
   "metadata": {},
   "outputs": [],
   "source": [
    "conn.tableinfo(caslib=\"Public\")"
   ]
  },
  {
   "cell_type": "markdown",
   "metadata": {},
   "source": [
    "# Gráfico de Assessment"
   ]
  },
  {
   "cell_type": "code",
   "execution_count": null,
   "metadata": {},
   "outputs": [],
   "source": [
    "metric = \"KS\""
   ]
  },
  {
   "cell_type": "code",
   "execution_count": null,
   "metadata": {
    "scrolled": true
   },
   "outputs": [],
   "source": [
    "resultgb[\"ROCInfo\"][resultgb[\"ROCInfo\"][metric] == max(resultgb[\"ROCInfo\"][metric])]\n"
   ]
  },
  {
   "cell_type": "code",
   "execution_count": null,
   "metadata": {},
   "outputs": [],
   "source": [
    "resultrf[\"ROCInfo\"][resultrf[\"ROCInfo\"][metric] == max(resultrf[\"ROCInfo\"][metric])]"
   ]
  },
  {
   "cell_type": "code",
   "execution_count": null,
   "metadata": {},
   "outputs": [],
   "source": [
    "resultnn[\"ROCInfo\"][resultnn[\"ROCInfo\"][metric] == max(resultnn[\"ROCInfo\"][metric])]"
   ]
  },
  {
   "cell_type": "code",
   "execution_count": null,
   "metadata": {},
   "outputs": [],
   "source": [
    "plt.plot(resultrf[\"ROCInfo\"][\"FPR\"], resultrf[\"ROCInfo\"][\"Sensitivity\"])\n",
    "plt.plot(resultgb[\"ROCInfo\"][\"FPR\"], resultgb[\"ROCInfo\"][\"Sensitivity\"])\n",
    "plt.plot(resultnn[\"ROCInfo\"][\"FPR\"], resultnn[\"ROCInfo\"][\"Sensitivity\"])\n",
    "plt.plot([0,1],linestyle=\"dashed\", color = 'black')\n",
    "plt.xlabel(\"FPR\")\n",
    "plt.ylabel(\"TPR\")\n",
    "plt.title(\"Curva ROC\")\n",
    "plt.legend([\"RandomForest :\"+ str(round(resultrf[\"ROCInfo\"][\"C\"][0], 3)),\n",
    "            \"GradientBoost :\"+ str(round(resultgb[\"ROCInfo\"][\"C\"][0], 3)),\n",
    "            \"NeuralNet :\"+ str(round(resultnn[\"ROCInfo\"][\"C\"][0], 3))])\n"
   ]
  },
  {
   "cell_type": "code",
   "execution_count": null,
   "metadata": {},
   "outputs": [],
   "source": [
    "from sklearn.metrics import classification_report"
   ]
  },
  {
   "cell_type": "code",
   "execution_count": null,
   "metadata": {},
   "outputs": [],
   "source": [
    "gbdf = gb_score.to_frame()\n",
    "rfdf = rf_score.to_frame()"
   ]
  },
  {
   "cell_type": "code",
   "execution_count": null,
   "metadata": {},
   "outputs": [],
   "source": [
    "print(\"## GBT metrics\")\n",
    "print(classification_report(y_true = gbdf[\"BAD\"].astype(int), \n",
    "                            y_pred = gbdf[\"I_BAD\"].astype(int), \n",
    "                            target_names = [\"0\", \"1\"]))"
   ]
  },
  {
   "cell_type": "code",
   "execution_count": null,
   "metadata": {},
   "outputs": [],
   "source": [
    "print(\"## RF metrics\")\n",
    "print(classification_report(y_true = rfdf[\"BAD\"].astype(int), \n",
    "                            y_pred = rfdf[\"I_BAD\"].astype(int), \n",
    "                            target_names = [\"0\", \"1\"]))"
   ]
  },
  {
   "cell_type": "markdown",
   "metadata": {},
   "source": [
    "## Salvando, registrando e publicando Modelos"
   ]
  },
  {
   "cell_type": "code",
   "execution_count": null,
   "metadata": {},
   "outputs": [],
   "source": [
    "## download the model\n",
    "conn.loadactionset('aStore')\n",
    "\n",
    "store=conn.download(rstore= {\"name\": \"gb_astore\", \"caslib\": \"Public\"})\n",
    "\n",
    "with open('savelocal.sasast','wb') as file:\n",
    "   file.write(store['blob'])"
   ]
  },
  {
   "cell_type": "code",
   "execution_count": null,
   "metadata": {},
   "outputs": [],
   "source": [
    "from sasctl import Session\n",
    "from sasctl.tasks import register_model, publish_model\n",
    "import getpass"
   ]
  },
  {
   "cell_type": "code",
   "execution_count": null,
   "metadata": {},
   "outputs": [],
   "source": [
    "# Establish a session with Viya\n",
    "s= Session(\"https://my-viya-server.com\", \n",
    "            username  = \"username\",\n",
    "            password = getpass.getpass()\n",
    "       )\n",
    "            \n",
    "print(s)"
   ]
  },
  {
   "cell_type": "code",
   "execution_count": null,
   "metadata": {},
   "outputs": [],
   "source": [
    "result = conn.astore.describe(rstore= dict(name = \"gb_astore\", caslib= \"Public\" ), epcode=False)\n",
    "var_list = [print(v) for v in result.InputVariables.itertuples()]\n",
    "\n"
   ]
  },
  {
   "cell_type": "code",
   "execution_count": null,
   "metadata": {},
   "outputs": [],
   "source": [
    "astore = conn.CASTable('gb_astore', caslib = \"public\")\n",
    "model = register_model(astore, 'gb_swat', 'WebinarBrHmeq') #force = True to create the project"
   ]
  },
  {
   "cell_type": "code",
   "execution_count": null,
   "metadata": {},
   "outputs": [],
   "source": [
    "# Publicar o modelo para scoragem em tempo real\n",
    "module = publish_model(model, 'maslocal')\n"
   ]
  },
  {
   "cell_type": "code",
   "execution_count": null,
   "metadata": {},
   "outputs": [],
   "source": [
    "first_rows = tbl.head(10)"
   ]
  },
  {
   "cell_type": "code",
   "execution_count": null,
   "metadata": {},
   "outputs": [],
   "source": [
    "# Enviando uma linha para MAS e rebendo a predição.\n",
    "result = module.score(first_rows.iloc[8])\n",
    "print(result)"
   ]
  },
  {
   "cell_type": "code",
   "execution_count": null,
   "metadata": {},
   "outputs": [],
   "source": [
    "s.delete()"
   ]
  },
  {
   "cell_type": "code",
   "execution_count": null,
   "metadata": {},
   "outputs": [],
   "source": [
    "conn.terminate()"
   ]
  },
  {
   "cell_type": "markdown",
   "metadata": {},
   "source": [
    "## Modelo Python"
   ]
  },
  {
   "cell_type": "code",
   "execution_count": null,
   "metadata": {},
   "outputs": [],
   "source": [
    "import pandas as pd\n",
    "from sasctl import Session, register_model, publish_model\n",
    "from sklearn.linear_model import LogisticRegression\n"
   ]
  },
  {
   "cell_type": "code",
   "execution_count": null,
   "metadata": {},
   "outputs": [],
   "source": [
    "# Load the Iris data set and split into features and target.\n",
    "df = pd.read_csv('https://support.sas.com/documentation/onlinedoc/viya/exampledatasets/iris.csv')\n",
    "df.columns = df.columns.str.replace(' ', '_')\n",
    "df.drop([\"Index\"], axis=1, inplace = True)\n",
    "\n",
    "X = df.drop('Species', axis=1)\n",
    "y = df.Species.astype('category')"
   ]
  },
  {
   "cell_type": "code",
   "execution_count": null,
   "metadata": {},
   "outputs": [],
   "source": [
    "df.head(10)"
   ]
  },
  {
   "cell_type": "code",
   "execution_count": null,
   "metadata": {},
   "outputs": [],
   "source": [
    "# Fit a sci-kit learn model\n",
    "model = LogisticRegression()"
   ]
  },
  {
   "cell_type": "code",
   "execution_count": null,
   "metadata": {},
   "outputs": [],
   "source": [
    "model.fit(X, y)"
   ]
  },
  {
   "cell_type": "code",
   "execution_count": null,
   "metadata": {},
   "outputs": [],
   "source": [
    "\n",
    "# Establish a session with Viya\n",
    "Session(\"https://my-viya-server.com\", \n",
    "            username  = \"username\",\n",
    "            password = getpass.getpass())\n"
   ]
  },
  {
   "cell_type": "code",
   "execution_count": null,
   "metadata": {},
   "outputs": [],
   "source": [
    "model_name = 'IrisLogRegression'\n",
    "\n",
    "# Register the model in Model Manager\n",
    "register_model(model,\n",
    "                   model_name,\n",
    "                   input=X,         # Use X to determine model inputs\n",
    "                   project='IrisProject',  # Register in \"Iris\" project\n",
    "                   force=True)      # Create project if it doesn't exist"
   ]
  },
  {
   "cell_type": "code",
   "execution_count": null,
   "metadata": {},
   "outputs": [],
   "source": [
    "# Publish the model to the real-time scoring engine\n",
    "module = publish_model(model_name, 'maslocal')"
   ]
  },
  {
   "cell_type": "code",
   "execution_count": null,
   "metadata": {},
   "outputs": [],
   "source": [
    "# Select the first row of training data\n",
    "x = X.iloc[100, :] #\n",
    "\n",
    "# Call the published module and score the record\n",
    "result = module.predict(x)\n",
    "print(result)"
   ]
  },
  {
   "cell_type": "code",
   "execution_count": null,
   "metadata": {},
   "outputs": [],
   "source": [
    "# deletando modulo (publicação)\n",
    "\n",
    "from sasctl import delete\n",
    "delete(\"/microanalyticScore/modules/irislogregression_338e183c7aca42\")"
   ]
  },
  {
   "cell_type": "code",
   "execution_count": null,
   "metadata": {},
   "outputs": [],
   "source": []
  }
 ],
 "metadata": {
  "kernelspec": {
   "display_name": "Python 3 (ipykernel)",
   "language": "python",
   "name": "python3"
  },
  "language_info": {
   "codemirror_mode": {
    "name": "ipython",
    "version": 3
   },
   "file_extension": ".py",
   "mimetype": "text/x-python",
   "name": "python",
   "nbconvert_exporter": "python",
   "pygments_lexer": "ipython3",
   "version": "3.8.5"
  },
  "vscode": {
   "interpreter": {
    "hash": "b2659a7367665d2dfe772a7269caa018f3a2ecea523df58cc5e786be518e5fc1"
   }
  }
 },
 "nbformat": 4,
 "nbformat_minor": 4
}
